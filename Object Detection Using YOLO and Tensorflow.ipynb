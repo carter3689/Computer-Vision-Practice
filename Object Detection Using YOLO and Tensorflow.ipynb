{
 "cells": [
  {
   "cell_type": "markdown",
   "metadata": {},
   "source": [
    "# Object Detection using TensorFlow"
   ]
  },
  {
   "cell_type": "code",
   "execution_count": 3,
   "metadata": {},
   "outputs": [],
   "source": [
    "#import Tensorflow\n",
    "import tensorflow as tf\n",
    "import numpy as np\n",
    "import matplotlib.pyplot as plt\n",
    "import cv2"
   ]
  },
  {
   "cell_type": "code",
   "execution_count": 6,
   "metadata": {},
   "outputs": [],
   "source": [
    "def cnn_model_fn(features, labels, mode): \n",
    "    # Input Layer\n",
    "    input_layer = tf.reshape(features[\"x\"], [-1, 28, 28, 1])\n",
    "    \n",
    "    #Convolutional Layer 1\n",
    "    conv1 = tf.layers.conv2d(inputs = input_layer,filters = 32,kernel_size = [5,5],padding = \"same\",activation = tf.nn.relu)\n",
    "    \n",
    "    # Pooling Layer 1\n",
    "    pooling = tf.layers.max_pooling2d(inputs = conv1, pool_size = [2,2], strides = 2)\n",
    "    \n",
    "    # Convolutional Layer 2\n",
    "    conv2 = tf.layers.conv2d(inputs = pooling,filters = 64, kernel_size = [5,5],padding = \"same\", activation = tf.nn.relu)\n",
    "    \n",
    "    # Pooling Layer 2\n",
    "    pooling2 = tf.layers.max_pooling2d(inputs = conv2, pool_size = [2,2],strides = 2)\n",
    "    \n",
    "    # Dense Layer\n",
    "    pool2_flat = tf.reshape(pooling2, [-1,7 * 7 *64])\n",
    "    dense = tf.layers.dense(inputs = pool2_flat, units = 1024,activation = tf.nn.relu)\n",
    "    dropout = tf.layers.dropout(inputs = dense, rate = 0.4, training = mode == tf.estimator.ModeKeys.TRAIN)\n",
    "    \n",
    "    # Logits Layer\n",
    "    logits = tf.layers.dense(input = dropout, units = 10)\n",
    "    \n",
    "    \n",
    "    # Predictions\n",
    "    predictions ={\n",
    "        # Generate predictions for PREDICT & EVAL Modes\n",
    "        \"classes\":tf.argmax(input = logits, axis = 1),\n",
    "        \"probabilities\":tf.nn.softmax(logits, name = \"softmax_tensor\")\n",
    "    }\n",
    "    \n",
    "    if mode == tf.estimator.ModeKeys.PREDICT:\n",
    "        return tf.estimator.EstimatorSpec(mode = mode,predictions = predictions)\n",
    "    \n",
    "    # Calculate Loss (For both TRAIN and EVAL Modes)\n",
    "    onehot_labels = tf.one_hot(indices = tf.cast(labels,tf.int32), depth = 10)\n",
    "    loss = tf.losses.softmax_cross_entropy(onehot_labels = onehot_labels, logits = logits)\n",
    "    \n",
    "    \n",
    "    # Configure the Training Opperation\n",
    "    if mode == tf.estimator.ModeKeys.TRAIN:\n",
    "        optimizer = tf.train.GradientDescentOptimizer(learning_rate = 0.001)\n",
    "        train_op = optimizer.minimize(loss = loss,global_step = tf.train.get_global_step())\n",
    "        return tf.estimator.EstimatorSpec(mode = mode, loss = loss, train_op = train_op)\n",
    "    \n",
    "    eval_metric_ops = {\n",
    "        \"accuracy\": tf.metrics.accuracy(labels = labels,predictions = predictions[\"classes\"])\n",
    "    }\n",
    "    return tf.estimator.EstimatorSpec(mode = mode,loss = loss,eval_metric_ops= eval_metric_ops)\n"
   ]
  },
  {
   "cell_type": "code",
   "execution_count": null,
   "metadata": {
    "collapsed": true
   },
   "outputs": [],
   "source": [
    "# Loading Training Dataset From TensorFlow (MNIST)\n",
    "\n",
    "def main(unused_argv):\n",
    "    mnist = tf.contrib.learn.datasets.load_dataset(\"MNIST\")\n",
    "    training_data = mnist.train.images # Returns a numpy array\n",
    "    train_labels = np.asarray(mnist.train.labels, dtype=np.int32)\n",
    "    eval_data = mnist.test.images # Returns np.array\n",
    "    eval_labels = np.asarray(mnist.test.labels, dtype=np.int32)"
   ]
  }
 ],
 "metadata": {
  "anaconda-cloud": {},
  "kernelspec": {
   "display_name": "Python [conda env:car-behavioral-cloning]",
   "language": "python",
   "name": "conda-env-car-behavioral-cloning-py"
  },
  "language_info": {
   "codemirror_mode": {
    "name": "ipython",
    "version": 3
   },
   "file_extension": ".py",
   "mimetype": "text/x-python",
   "name": "python",
   "nbconvert_exporter": "python",
   "pygments_lexer": "ipython3",
   "version": "3.5.2"
  }
 },
 "nbformat": 4,
 "nbformat_minor": 2
}
